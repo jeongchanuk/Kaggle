{
 "cells": [
  {
   "cell_type": "code",
   "execution_count": 1,
   "id": "20d1f389",
   "metadata": {},
   "outputs": [],
   "source": [
    "import numpy as np\n",
    "import pandas as pd\n",
    "import matplotlib.pyplot as plt\n",
    "\n",
    "import torch\n",
    "import torch.nn as nn\n",
    "import torch.nn.functional as F\n",
    "from torch.utils.data import Dataset, DataLoader"
   ]
  },
  {
   "cell_type": "code",
   "execution_count": 2,
   "id": "9855e9fe",
   "metadata": {},
   "outputs": [],
   "source": [
    "class PATH:\n",
    "    TRAIN = 'data/train.csv'\n",
    "    TEST = 'data/test.csv'\n",
    "\n",
    "class CONFIG:\n",
    "    lr = 0.001\n",
    "    epoch = 10\n",
    "    batch_size = 256"
   ]
  },
  {
   "cell_type": "code",
   "execution_count": 3,
   "id": "d3007348",
   "metadata": {},
   "outputs": [],
   "source": [
    "df_train = pd.read_csv(PATH.TRAIN)"
   ]
  },
  {
   "cell_type": "code",
   "execution_count": 4,
   "id": "7e78b233",
   "metadata": {},
   "outputs": [
    {
     "name": "stdout",
     "output_type": "stream",
     "text": [
      "cpu\n"
     ]
    }
   ],
   "source": [
    "device = 'cpu'\n",
    "print(device)"
   ]
  },
  {
   "cell_type": "code",
   "execution_count": 5,
   "id": "3fd3820c",
   "metadata": {},
   "outputs": [],
   "source": [
    "l = len(df_train)"
   ]
  },
  {
   "cell_type": "code",
   "execution_count": 6,
   "id": "5e8ce41d",
   "metadata": {},
   "outputs": [],
   "source": [
    "x = torch.Tensor(df_train.iloc[:, 1:].values).reshape(l, 28, 28) / 256\n",
    "x = x.unsqueeze(1)\n",
    "y = torch.Tensor(df_train.iloc[:, 0].values).type(torch.long)\n",
    "\n",
    "train_x, valid_x = x[:39000], x[39000:]\n",
    "train_y, valid_y = y[:39000], y[39000:]"
   ]
  },
  {
   "cell_type": "code",
   "execution_count": 7,
   "id": "1cf8cadc",
   "metadata": {},
   "outputs": [],
   "source": [
    "class DigitDataset(Dataset):\n",
    "    \n",
    "    def __init__(self, x, y = None):\n",
    "        super(DigitDataset).__init__()\n",
    "        self.x = x\n",
    "        self.y = y\n",
    "        \n",
    "    def __getitem__(self, idx):\n",
    "        if self.y == None:\n",
    "            return self.x[idx]\n",
    "        return self.x[idx], self.y[idx]\n",
    "    \n",
    "    def __len__(self):\n",
    "        return len(self.x)"
   ]
  },
  {
   "cell_type": "code",
   "execution_count": 8,
   "id": "8c67436b",
   "metadata": {},
   "outputs": [],
   "source": [
    "trainset = DigitDataset(train_x, train_y)\n",
    "validset = DigitDataset(valid_x, valid_y)\n",
    "train_dl = DataLoader(trainset, batch_size = CONFIG.batch_size, shuffle = True)\n",
    "valid_dl = DataLoader(validset, batch_size = CONFIG.batch_size)"
   ]
  },
  {
   "cell_type": "code",
   "execution_count": 9,
   "id": "5d57d8c4",
   "metadata": {},
   "outputs": [],
   "source": [
    "class DigitModel(nn.Module):\n",
    "    \n",
    "    def __init__(self):\n",
    "        super(DigitModel, self).__init__()\n",
    "        \n",
    "        self.model = nn.Sequential(\n",
    "            nn.Conv2d(1, 32, 3),\n",
    "            nn.Conv2d(32, 8, 3),\n",
    "            nn.Flatten(),\n",
    "            nn.Linear(24*24*8, 256),\n",
    "            nn.ReLU(),\n",
    "            nn.Linear(256, 128),\n",
    "            nn.ReLU(),\n",
    "            nn.Linear(128, 10)\n",
    "        )\n",
    "        \n",
    "    def forward(self, x):\n",
    "        x = self.model(x)\n",
    "        return x"
   ]
  },
  {
   "cell_type": "code",
   "execution_count": 10,
   "id": "1789a92f",
   "metadata": {},
   "outputs": [],
   "source": [
    "model = DigitModel().to(device)"
   ]
  },
  {
   "cell_type": "code",
   "execution_count": 11,
   "id": "2c1b3beb",
   "metadata": {},
   "outputs": [],
   "source": [
    "criterion = nn.CrossEntropyLoss().to(device)\n",
    "optimizer = torch.optim.Adam(model.parameters(), lr = CONFIG.lr)"
   ]
  },
  {
   "cell_type": "code",
   "execution_count": null,
   "id": "15e41067",
   "metadata": {},
   "outputs": [
    {
     "name": "stdout",
     "output_type": "stream",
     "text": [
      "Training on progress... 1/10\n",
      "Epoch 1 : Acc 95.0\n",
      "Training on progress... 2/10\n",
      "Epoch 2 : Acc 96.3\n",
      "Training on progress... 3/10\n",
      "Epoch 3 : Acc 97.0\n",
      "Training on progress... 4/10\n",
      "Epoch 4 : Acc 97.13333333333334\n",
      "Training on progress... 5/10\n",
      "Epoch 5 : Acc 97.16666666666667\n",
      "Training on progress... 6/10\n",
      "Epoch 6 : Acc 97.23333333333333\n",
      "Training on progress... 7/10\n",
      "Epoch 7 : Acc 97.33333333333333\n",
      "Training on progress... 8/10\n",
      "Epoch 8 : Acc 97.33333333333333\n",
      "Training on progress... 9/10\n",
      "Epoch 9 : Acc 97.53333333333333\n",
      "Training on progress... 10/10\n"
     ]
    }
   ],
   "source": [
    "for e in range(CONFIG.epoch):\n",
    "    print(f\"Training on progress... {e + 1}/{CONFIG.epoch}\")\n",
    "    accuracy = 0\n",
    "    total = 0\n",
    "    \n",
    "    model.train() \n",
    "    for x, y in train_dl:\n",
    "        x = x.to(device)\n",
    "        y = y.to(device)\n",
    "        \n",
    "        optimizer.zero_grad()\n",
    "        hypothesis = model(x)\n",
    "        cost = criterion(hypothesis, y)\n",
    "        cost.backward()\n",
    "        optimizer.step()\n",
    "        \n",
    "    model.eval()\n",
    "    with torch.no_grad():\n",
    "        for vx, vy in valid_dl:\n",
    "            vx = vx.to(device)\n",
    "            vy = vy.to(device)\n",
    "            \n",
    "            prediction = model(vx)\n",
    "            correct_prediction = prediction.max(dim=1)[1]\n",
    "            accuracy += (correct_prediction == vy).sum().item()\n",
    "    print(f\"Epoch {e + 1} : Acc {100 * accuracy / 3000}\")"
   ]
  },
  {
   "cell_type": "code",
   "execution_count": null,
   "id": "473f074b",
   "metadata": {},
   "outputs": [],
   "source": [
    "df_test = pd.read_csv(PATH.TEST)\n",
    "l = len(df_test)\n",
    "test_x = torch.FloatTensor(df_test.values).reshape(l, 28, 28) / 256\n",
    "test_x = test_x.unsqueeze(1)"
   ]
  },
  {
   "cell_type": "code",
   "execution_count": null,
   "id": "aa95ab0f",
   "metadata": {},
   "outputs": [],
   "source": [
    "outputs = model(test_x)\n",
    "_, pred = torch.max(outputs, 1)\n",
    "pred = pred.cpu()"
   ]
  },
  {
   "cell_type": "code",
   "execution_count": null,
   "id": "8c503df9",
   "metadata": {},
   "outputs": [],
   "source": [
    "for i, img in enumerate(test_x[50:56]):\n",
    "    plt.subplot(2, 3, i + 1)\n",
    "    plt.axis('off')\n",
    "    plt.title(f\"Predicted : {pred[50 + i]}\")\n",
    "    plt.imshow(img.squeeze(0))"
   ]
  }
 ],
 "metadata": {
  "kernelspec": {
   "display_name": "Python 3",
   "language": "python",
   "name": "python3"
  },
  "language_info": {
   "codemirror_mode": {
    "name": "ipython",
    "version": 3
   },
   "file_extension": ".py",
   "mimetype": "text/x-python",
   "name": "python",
   "nbconvert_exporter": "python",
   "pygments_lexer": "ipython3",
   "version": "3.7.10"
  }
 },
 "nbformat": 4,
 "nbformat_minor": 5
}
